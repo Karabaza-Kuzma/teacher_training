{
 "cells": [
  {
   "cell_type": "markdown",
   "metadata": {
    "toc": true
   },
   "source": [
    "<h1>Содержание<span class=\"tocSkip\"></span></h1>\n",
    "<div class=\"toc\"><ul class=\"toc-item\"><li><span><a href=\"#Подготовка-данных\" data-toc-modified-id=\"Подготовка-данных-1\"><span class=\"toc-item-num\">1&nbsp;&nbsp;</span>Подготовка данных</a></span><ul class=\"toc-item\"><li><span><a href=\"#Загрузка-библиотек\" data-toc-modified-id=\"Загрузка-библиотек-1.1\"><span class=\"toc-item-num\">1.1&nbsp;&nbsp;</span>Загрузка библиотек</a></span></li><li><span><a href=\"#Загузка-данных\" data-toc-modified-id=\"Загузка-данных-1.2\"><span class=\"toc-item-num\">1.2&nbsp;&nbsp;</span>Загузка данных</a></span></li><li><span><a href=\"#Работа-с-пропущеными-значениями-значений\" data-toc-modified-id=\"Работа-с-пропущеными-значениями-значений-1.3\"><span class=\"toc-item-num\">1.3&nbsp;&nbsp;</span>Работа с пропущеными значениями значений</a></span></li><li><span><a href=\"#Удаление-незначащих-признаков\" data-toc-modified-id=\"Удаление-незначащих-признаков-1.4\"><span class=\"toc-item-num\">1.4&nbsp;&nbsp;</span>Удаление незначащих признаков</a></span></li><li><span><a href=\"#Разбиение-выборки\" data-toc-modified-id=\"Разбиение-выборки-1.5\"><span class=\"toc-item-num\">1.5&nbsp;&nbsp;</span>Разбиение выборки</a></span></li><li><span><a href=\"#Кодирование-категориальных-признаков\" data-toc-modified-id=\"Кодирование-категориальных-признаков-1.6\"><span class=\"toc-item-num\">1.6&nbsp;&nbsp;</span>Кодирование категориальных признаков</a></span></li><li><span><a href=\"#Масштабирование-числовых-признаков\" data-toc-modified-id=\"Масштабирование-числовых-признаков-1.7\"><span class=\"toc-item-num\">1.7&nbsp;&nbsp;</span>Масштабирование числовых признаков</a></span></li></ul></li><li><span><a href=\"#Исследование-задачи\" data-toc-modified-id=\"Исследование-задачи-2\"><span class=\"toc-item-num\">2&nbsp;&nbsp;</span>Исследование задачи</a></span><ul class=\"toc-item\"><li><span><a href=\"#Дерево\" data-toc-modified-id=\"Дерево-2.1\"><span class=\"toc-item-num\">2.1&nbsp;&nbsp;</span>Дерево</a></span></li><li><span><a href=\"#Регрессия\" data-toc-modified-id=\"Регрессия-2.2\"><span class=\"toc-item-num\">2.2&nbsp;&nbsp;</span>Регрессия</a></span></li><li><span><a href=\"#Лес\" data-toc-modified-id=\"Лес-2.3\"><span class=\"toc-item-num\">2.3&nbsp;&nbsp;</span>Лес</a></span></li><li><span><a href=\"#Вывод\" data-toc-modified-id=\"Вывод-2.4\"><span class=\"toc-item-num\">2.4&nbsp;&nbsp;</span>Вывод</a></span></li></ul></li><li><span><a href=\"#Борьба-с-дисбалансом\" data-toc-modified-id=\"Борьба-с-дисбалансом-3\"><span class=\"toc-item-num\">3&nbsp;&nbsp;</span>Борьба с дисбалансом</a></span><ul class=\"toc-item\"><li><span><a href=\"#Величина-дисбаланса\" data-toc-modified-id=\"Величина-дисбаланса-3.1\"><span class=\"toc-item-num\">3.1&nbsp;&nbsp;</span>Величина дисбаланса</a></span></li><li><span><a href=\"#Сбалансированный-вес-класов\" data-toc-modified-id=\"Сбалансированный-вес-класов-3.2\"><span class=\"toc-item-num\">3.2&nbsp;&nbsp;</span>Сбалансированный вес класов</a></span></li><li><span><a href=\"#Уменьшение-выборки\" data-toc-modified-id=\"Уменьшение-выборки-3.3\"><span class=\"toc-item-num\">3.3&nbsp;&nbsp;</span>Уменьшение выборки</a></span></li><li><span><a href=\"#Увеличение-выборки\" data-toc-modified-id=\"Увеличение-выборки-3.4\"><span class=\"toc-item-num\">3.4&nbsp;&nbsp;</span>Увеличение выборки</a></span></li><li><span><a href=\"#Вывод\" data-toc-modified-id=\"Вывод-3.5\"><span class=\"toc-item-num\">3.5&nbsp;&nbsp;</span>Вывод</a></span></li></ul></li><li><span><a href=\"#Тестирование-модели\" data-toc-modified-id=\"Тестирование-модели-4\"><span class=\"toc-item-num\">4&nbsp;&nbsp;</span>Тестирование модели</a></span></li><li><span><a href=\"#Общий-вывод\" data-toc-modified-id=\"Общий-вывод-5\"><span class=\"toc-item-num\">5&nbsp;&nbsp;</span>Общий вывод</a></span></li></ul></div>"
   ]
  },
  {
   "cell_type": "markdown",
   "metadata": {},
   "source": [
    "# Отток клиентов"
   ]
  },
  {
   "cell_type": "markdown",
   "metadata": {},
   "source": [
    "Из «Бета-Банка» стали уходить клиенты. Каждый месяц. Немного, но заметно. Банковские маркетологи посчитали: сохранять текущих клиентов дешевле, чем привлекать новых.\n",
    "\n",
    "Нужно спрогнозировать, уйдёт клиент из банка в ближайшее время или нет. Вам предоставлены исторические данные о поведении клиентов и расторжении договоров с банком. \n",
    "\n",
    "Постройте модель с предельно большим значением *F1*-меры. Чтобы сдать проект успешно, нужно довести метрику до 0.59. Проверьте *F1*-меру на тестовой выборке самостоятельно.\n",
    "\n",
    "Дополнительно измеряйте *AUC-ROC*, сравнивайте её значение с *F1*-мерой.\n",
    "\n",
    "Источник данных: [https://www.kaggle.com/barelydedicated/bank-customer-churn-modeling](https://www.kaggle.com/barelydedicated/bank-customer-churn-modeling)"
   ]
  },
  {
   "cell_type": "markdown",
   "metadata": {},
   "source": [
    "**Заказчик:** «Бета-Банк» \\\n",
    "**Задача:** прогноз, ухода клиента из банка в ближайшее времяю \\\n",
    "**Данные:** исторические данные о поведении клиентов и расторжении договоров с банком. \\\n",
    "**Цель:** построение модели с предельно большим значением F1-меры (>= 0.59)"
   ]
  },
  {
   "cell_type": "markdown",
   "metadata": {},
   "source": [
    "## Подготовка данных"
   ]
  },
  {
   "cell_type": "markdown",
   "metadata": {},
   "source": [
    "### Загрузка библиотек"
   ]
  },
  {
   "cell_type": "code",
   "execution_count": 1,
   "metadata": {},
   "outputs": [],
   "source": [
    "import pandas as pd\n",
    "import matplotlib.pyplot as plt\n",
    "from sklearn.tree import DecisionTreeClassifier\n",
    "from sklearn.model_selection import train_test_split\n",
    "from sklearn.metrics import f1_score\n",
    "from sklearn.linear_model import LogisticRegression\n",
    "from sklearn.metrics import roc_auc_score\n",
    "from sklearn.metrics import roc_curve\n",
    "from sklearn.preprocessing import StandardScaler\n",
    "from sklearn.ensemble import RandomForestClassifier\n",
    "from sklearn.utils import shuffle"
   ]
  },
  {
   "cell_type": "markdown",
   "metadata": {},
   "source": [
    "### Загузка данных"
   ]
  },
  {
   "cell_type": "code",
   "execution_count": 2,
   "metadata": {},
   "outputs": [
    {
     "name": "stdout",
     "output_type": "stream",
     "text": [
      "<class 'pandas.core.frame.DataFrame'>\n",
      "RangeIndex: 10000 entries, 0 to 9999\n",
      "Data columns (total 14 columns):\n",
      " #   Column           Non-Null Count  Dtype  \n",
      "---  ------           --------------  -----  \n",
      " 0   RowNumber        10000 non-null  int64  \n",
      " 1   CustomerId       10000 non-null  int64  \n",
      " 2   Surname          10000 non-null  object \n",
      " 3   CreditScore      10000 non-null  int64  \n",
      " 4   Geography        10000 non-null  object \n",
      " 5   Gender           10000 non-null  object \n",
      " 6   Age              10000 non-null  int64  \n",
      " 7   Tenure           9091 non-null   float64\n",
      " 8   Balance          10000 non-null  float64\n",
      " 9   NumOfProducts    10000 non-null  int64  \n",
      " 10  HasCrCard        10000 non-null  int64  \n",
      " 11  IsActiveMember   10000 non-null  int64  \n",
      " 12  EstimatedSalary  10000 non-null  float64\n",
      " 13  Exited           10000 non-null  int64  \n",
      "dtypes: float64(3), int64(8), object(3)\n",
      "memory usage: 1.1+ MB\n"
     ]
    }
   ],
   "source": [
    "data_original = pd.read_csv('Churn.csv')\n",
    "data_original.info()"
   ]
  },
  {
   "cell_type": "markdown",
   "metadata": {},
   "source": [
    "**Признаки:**\n",
    "* `RowNumber` — индекс строки в данных\n",
    "* `CustomerId` — уникальный идентификатор клиента\n",
    "* `Surname` — фамилия\n",
    "* `CreditScore` — кредитный рейтинг\n",
    "* `Geography` — страна проживания\n",
    "* `Gender` — пол\n",
    "* `Age` — возраст\n",
    "* `Tenure` — сколько лет человек является клиентом банка\n",
    "* `Balance` — баланс на счёте\n",
    "* `NumOfProducts` — количество продуктов банка, используемых клиентом\n",
    "* `HasCrCard` — наличие кредитной карты\n",
    "* `IsActiveMember` — активность клиента\n",
    "* `EstimatedSalary` — предполагаемая зарплата\n",
    "\n",
    "**Целевой признак:**\n",
    "* `Exited` — факт ухода клиента"
   ]
  },
  {
   "cell_type": "code",
   "execution_count": 3,
   "metadata": {
    "scrolled": true
   },
   "outputs": [
    {
     "data": {
      "text/html": [
       "<div>\n",
       "<style scoped>\n",
       "    .dataframe tbody tr th:only-of-type {\n",
       "        vertical-align: middle;\n",
       "    }\n",
       "\n",
       "    .dataframe tbody tr th {\n",
       "        vertical-align: top;\n",
       "    }\n",
       "\n",
       "    .dataframe thead th {\n",
       "        text-align: right;\n",
       "    }\n",
       "</style>\n",
       "<table border=\"1\" class=\"dataframe\">\n",
       "  <thead>\n",
       "    <tr style=\"text-align: right;\">\n",
       "      <th></th>\n",
       "      <th>RowNumber</th>\n",
       "      <th>CustomerId</th>\n",
       "      <th>Surname</th>\n",
       "      <th>CreditScore</th>\n",
       "      <th>Geography</th>\n",
       "      <th>Gender</th>\n",
       "      <th>Age</th>\n",
       "      <th>Tenure</th>\n",
       "      <th>Balance</th>\n",
       "      <th>NumOfProducts</th>\n",
       "      <th>HasCrCard</th>\n",
       "      <th>IsActiveMember</th>\n",
       "      <th>EstimatedSalary</th>\n",
       "      <th>Exited</th>\n",
       "    </tr>\n",
       "  </thead>\n",
       "  <tbody>\n",
       "    <tr>\n",
       "      <th>6614</th>\n",
       "      <td>6615</td>\n",
       "      <td>15626135</td>\n",
       "      <td>Combes</td>\n",
       "      <td>689</td>\n",
       "      <td>France</td>\n",
       "      <td>Male</td>\n",
       "      <td>34</td>\n",
       "      <td>1.0</td>\n",
       "      <td>165312.27</td>\n",
       "      <td>1</td>\n",
       "      <td>1</td>\n",
       "      <td>0</td>\n",
       "      <td>155495.63</td>\n",
       "      <td>0</td>\n",
       "    </tr>\n",
       "    <tr>\n",
       "      <th>2672</th>\n",
       "      <td>2673</td>\n",
       "      <td>15630920</td>\n",
       "      <td>Du Cane</td>\n",
       "      <td>724</td>\n",
       "      <td>France</td>\n",
       "      <td>Male</td>\n",
       "      <td>34</td>\n",
       "      <td>2.0</td>\n",
       "      <td>154485.74</td>\n",
       "      <td>2</td>\n",
       "      <td>0</td>\n",
       "      <td>0</td>\n",
       "      <td>78560.64</td>\n",
       "      <td>0</td>\n",
       "    </tr>\n",
       "    <tr>\n",
       "      <th>3923</th>\n",
       "      <td>3924</td>\n",
       "      <td>15595047</td>\n",
       "      <td>Murray</td>\n",
       "      <td>764</td>\n",
       "      <td>France</td>\n",
       "      <td>Male</td>\n",
       "      <td>41</td>\n",
       "      <td>7.0</td>\n",
       "      <td>0.00</td>\n",
       "      <td>2</td>\n",
       "      <td>0</td>\n",
       "      <td>0</td>\n",
       "      <td>134878.34</td>\n",
       "      <td>0</td>\n",
       "    </tr>\n",
       "    <tr>\n",
       "      <th>193</th>\n",
       "      <td>194</td>\n",
       "      <td>15702741</td>\n",
       "      <td>Potts</td>\n",
       "      <td>601</td>\n",
       "      <td>France</td>\n",
       "      <td>Male</td>\n",
       "      <td>32</td>\n",
       "      <td>8.0</td>\n",
       "      <td>93012.89</td>\n",
       "      <td>1</td>\n",
       "      <td>1</td>\n",
       "      <td>0</td>\n",
       "      <td>86957.42</td>\n",
       "      <td>0</td>\n",
       "    </tr>\n",
       "    <tr>\n",
       "      <th>4864</th>\n",
       "      <td>4865</td>\n",
       "      <td>15783225</td>\n",
       "      <td>Cocci</td>\n",
       "      <td>737</td>\n",
       "      <td>France</td>\n",
       "      <td>Male</td>\n",
       "      <td>54</td>\n",
       "      <td>9.0</td>\n",
       "      <td>0.00</td>\n",
       "      <td>1</td>\n",
       "      <td>1</td>\n",
       "      <td>0</td>\n",
       "      <td>83470.40</td>\n",
       "      <td>1</td>\n",
       "    </tr>\n",
       "    <tr>\n",
       "      <th>9067</th>\n",
       "      <td>9068</td>\n",
       "      <td>15684645</td>\n",
       "      <td>Ajuluchukwu</td>\n",
       "      <td>704</td>\n",
       "      <td>Germany</td>\n",
       "      <td>Male</td>\n",
       "      <td>41</td>\n",
       "      <td>9.0</td>\n",
       "      <td>62078.21</td>\n",
       "      <td>2</td>\n",
       "      <td>1</td>\n",
       "      <td>0</td>\n",
       "      <td>129050.67</td>\n",
       "      <td>0</td>\n",
       "    </tr>\n",
       "    <tr>\n",
       "      <th>8685</th>\n",
       "      <td>8686</td>\n",
       "      <td>15597885</td>\n",
       "      <td>Kerr</td>\n",
       "      <td>772</td>\n",
       "      <td>France</td>\n",
       "      <td>Male</td>\n",
       "      <td>43</td>\n",
       "      <td>6.0</td>\n",
       "      <td>0.00</td>\n",
       "      <td>2</td>\n",
       "      <td>1</td>\n",
       "      <td>1</td>\n",
       "      <td>57675.88</td>\n",
       "      <td>0</td>\n",
       "    </tr>\n",
       "    <tr>\n",
       "      <th>9228</th>\n",
       "      <td>9229</td>\n",
       "      <td>15749679</td>\n",
       "      <td>Beck</td>\n",
       "      <td>699</td>\n",
       "      <td>France</td>\n",
       "      <td>Male</td>\n",
       "      <td>39</td>\n",
       "      <td>2.0</td>\n",
       "      <td>109724.38</td>\n",
       "      <td>1</td>\n",
       "      <td>1</td>\n",
       "      <td>1</td>\n",
       "      <td>180022.39</td>\n",
       "      <td>0</td>\n",
       "    </tr>\n",
       "    <tr>\n",
       "      <th>6641</th>\n",
       "      <td>6642</td>\n",
       "      <td>15591942</td>\n",
       "      <td>Zito</td>\n",
       "      <td>611</td>\n",
       "      <td>Spain</td>\n",
       "      <td>Female</td>\n",
       "      <td>33</td>\n",
       "      <td>7.0</td>\n",
       "      <td>0.00</td>\n",
       "      <td>2</td>\n",
       "      <td>1</td>\n",
       "      <td>1</td>\n",
       "      <td>3729.89</td>\n",
       "      <td>0</td>\n",
       "    </tr>\n",
       "    <tr>\n",
       "      <th>2240</th>\n",
       "      <td>2241</td>\n",
       "      <td>15670345</td>\n",
       "      <td>Mazzi</td>\n",
       "      <td>785</td>\n",
       "      <td>Germany</td>\n",
       "      <td>Female</td>\n",
       "      <td>33</td>\n",
       "      <td>6.0</td>\n",
       "      <td>127211.45</td>\n",
       "      <td>1</td>\n",
       "      <td>0</td>\n",
       "      <td>0</td>\n",
       "      <td>191961.83</td>\n",
       "      <td>0</td>\n",
       "    </tr>\n",
       "  </tbody>\n",
       "</table>\n",
       "</div>"
      ],
      "text/plain": [
       "      RowNumber  CustomerId      Surname  CreditScore Geography  Gender  Age  \\\n",
       "6614       6615    15626135       Combes          689    France    Male   34   \n",
       "2672       2673    15630920      Du Cane          724    France    Male   34   \n",
       "3923       3924    15595047       Murray          764    France    Male   41   \n",
       "193         194    15702741        Potts          601    France    Male   32   \n",
       "4864       4865    15783225        Cocci          737    France    Male   54   \n",
       "9067       9068    15684645  Ajuluchukwu          704   Germany    Male   41   \n",
       "8685       8686    15597885         Kerr          772    France    Male   43   \n",
       "9228       9229    15749679         Beck          699    France    Male   39   \n",
       "6641       6642    15591942         Zito          611     Spain  Female   33   \n",
       "2240       2241    15670345        Mazzi          785   Germany  Female   33   \n",
       "\n",
       "      Tenure    Balance  NumOfProducts  HasCrCard  IsActiveMember  \\\n",
       "6614     1.0  165312.27              1          1               0   \n",
       "2672     2.0  154485.74              2          0               0   \n",
       "3923     7.0       0.00              2          0               0   \n",
       "193      8.0   93012.89              1          1               0   \n",
       "4864     9.0       0.00              1          1               0   \n",
       "9067     9.0   62078.21              2          1               0   \n",
       "8685     6.0       0.00              2          1               1   \n",
       "9228     2.0  109724.38              1          1               1   \n",
       "6641     7.0       0.00              2          1               1   \n",
       "2240     6.0  127211.45              1          0               0   \n",
       "\n",
       "      EstimatedSalary  Exited  \n",
       "6614        155495.63       0  \n",
       "2672         78560.64       0  \n",
       "3923        134878.34       0  \n",
       "193          86957.42       0  \n",
       "4864         83470.40       1  \n",
       "9067        129050.67       0  \n",
       "8685         57675.88       0  \n",
       "9228        180022.39       0  \n",
       "6641          3729.89       0  \n",
       "2240        191961.83       0  "
      ]
     },
     "execution_count": 3,
     "metadata": {},
     "output_type": "execute_result"
    }
   ],
   "source": [
    "data_original.sample(10)"
   ]
  },
  {
   "cell_type": "markdown",
   "metadata": {},
   "source": [
    "### Работа с пропущеными значениями значений"
   ]
  },
  {
   "cell_type": "code",
   "execution_count": 4,
   "metadata": {},
   "outputs": [
    {
     "name": "stdout",
     "output_type": "stream",
     "text": [
      "[ 2.  1.  8.  7.  4.  6.  3. 10.  5.  9.  0. nan]\n"
     ]
    }
   ],
   "source": [
    "print(data_original['Tenure'].unique())"
   ]
  },
  {
   "cell_type": "code",
   "execution_count": 5,
   "metadata": {},
   "outputs": [
    {
     "name": "stdout",
     "output_type": "stream",
     "text": [
      "Доля пропущеных значений: 0.0909\n"
     ]
    }
   ],
   "source": [
    "print('Доля пропущеных значений:', data_original['Tenure'].isna().sum()/data_original.shape[0])"
   ]
  },
  {
   "cell_type": "code",
   "execution_count": 6,
   "metadata": {},
   "outputs": [
    {
     "name": "stdout",
     "output_type": "stream",
     "text": [
      "<class 'pandas.core.frame.DataFrame'>\n",
      "RangeIndex: 10000 entries, 0 to 9999\n",
      "Data columns (total 14 columns):\n",
      " #   Column           Non-Null Count  Dtype  \n",
      "---  ------           --------------  -----  \n",
      " 0   RowNumber        10000 non-null  int64  \n",
      " 1   CustomerId       10000 non-null  int64  \n",
      " 2   Surname          10000 non-null  object \n",
      " 3   CreditScore      10000 non-null  int64  \n",
      " 4   Geography        10000 non-null  object \n",
      " 5   Gender           10000 non-null  object \n",
      " 6   Age              10000 non-null  int64  \n",
      " 7   Tenure           10000 non-null  object \n",
      " 8   Balance          10000 non-null  float64\n",
      " 9   NumOfProducts    10000 non-null  int64  \n",
      " 10  HasCrCard        10000 non-null  int64  \n",
      " 11  IsActiveMember   10000 non-null  int64  \n",
      " 12  EstimatedSalary  10000 non-null  float64\n",
      " 13  Exited           10000 non-null  int64  \n",
      "dtypes: float64(2), int64(8), object(4)\n",
      "memory usage: 1.1+ MB\n"
     ]
    }
   ],
   "source": [
    "data = data_original\n",
    "data['Tenure'] = data['Tenure'].astype('object')\n",
    "data['Tenure'] = data['Tenure'].fillna('nan')\n",
    "data.info()"
   ]
  },
  {
   "cell_type": "markdown",
   "metadata": {},
   "source": [
    "### Удаление незначащих признаков"
   ]
  },
  {
   "cell_type": "code",
   "execution_count": 7,
   "metadata": {
    "scrolled": true
   },
   "outputs": [
    {
     "name": "stdout",
     "output_type": "stream",
     "text": [
      "<class 'pandas.core.frame.DataFrame'>\n",
      "RangeIndex: 10000 entries, 0 to 9999\n",
      "Data columns (total 11 columns):\n",
      " #   Column           Non-Null Count  Dtype  \n",
      "---  ------           --------------  -----  \n",
      " 0   CreditScore      10000 non-null  int64  \n",
      " 1   Geography        10000 non-null  object \n",
      " 2   Gender           10000 non-null  object \n",
      " 3   Age              10000 non-null  int64  \n",
      " 4   Tenure           10000 non-null  object \n",
      " 5   Balance          10000 non-null  float64\n",
      " 6   NumOfProducts    10000 non-null  int64  \n",
      " 7   HasCrCard        10000 non-null  int64  \n",
      " 8   IsActiveMember   10000 non-null  int64  \n",
      " 9   EstimatedSalary  10000 non-null  float64\n",
      " 10  Exited           10000 non-null  int64  \n",
      "dtypes: float64(2), int64(6), object(3)\n",
      "memory usage: 859.5+ KB\n"
     ]
    }
   ],
   "source": [
    "data = data.drop(['RowNumber','CustomerId','Surname'], axis=1)\n",
    "data.info()"
   ]
  },
  {
   "cell_type": "markdown",
   "metadata": {},
   "source": [
    "### Разбиение выборки"
   ]
  },
  {
   "cell_type": "code",
   "execution_count": 8,
   "metadata": {},
   "outputs": [],
   "source": [
    "target = data['Exited']\n",
    "features = data.drop('Exited', axis=1)"
   ]
  },
  {
   "cell_type": "code",
   "execution_count": 9,
   "metadata": {},
   "outputs": [
    {
     "name": "stdout",
     "output_type": "stream",
     "text": [
      "Размер обучающей выборки: 6000\n",
      "Размер валидационной выборки: 2000\n",
      "Размер тестовой выборки: 2000\n"
     ]
    }
   ],
   "source": [
    "features_train, features_valid, target_train, target_valid  = train_test_split(\n",
    "    features, target, test_size = 0.4, random_state=12345)\n",
    "features_test, features_valid, target_test, target_valid = train_test_split(\n",
    "    features_valid, target_valid, test_size = 0.5, random_state=12345)\n",
    "\n",
    "print('Размер обучающей выборки:', target_train.shape[0])\n",
    "print('Размер валидационной выборки:', target_valid.shape[0])\n",
    "print('Размер тестовой выборки:', target_test.shape[0])"
   ]
  },
  {
   "cell_type": "markdown",
   "metadata": {},
   "source": [
    "### Кодирование категориальных признаков"
   ]
  },
  {
   "cell_type": "code",
   "execution_count": 10,
   "metadata": {
    "scrolled": true
   },
   "outputs": [
    {
     "name": "stdout",
     "output_type": "stream",
     "text": [
      "<class 'pandas.core.frame.DataFrame'>\n",
      "Int64Index: 6000 entries, 7479 to 4578\n",
      "Data columns (total 21 columns):\n",
      " #   Column             Non-Null Count  Dtype  \n",
      "---  ------             --------------  -----  \n",
      " 0   CreditScore        6000 non-null   int64  \n",
      " 1   Age                6000 non-null   int64  \n",
      " 2   Balance            6000 non-null   float64\n",
      " 3   NumOfProducts      6000 non-null   int64  \n",
      " 4   HasCrCard          6000 non-null   int64  \n",
      " 5   IsActiveMember     6000 non-null   int64  \n",
      " 6   EstimatedSalary    6000 non-null   float64\n",
      " 7   Geography_Germany  6000 non-null   uint8  \n",
      " 8   Geography_Spain    6000 non-null   uint8  \n",
      " 9   Gender_Male        6000 non-null   uint8  \n",
      " 10  Tenure_1.0         6000 non-null   uint8  \n",
      " 11  Tenure_2.0         6000 non-null   uint8  \n",
      " 12  Tenure_3.0         6000 non-null   uint8  \n",
      " 13  Tenure_4.0         6000 non-null   uint8  \n",
      " 14  Tenure_5.0         6000 non-null   uint8  \n",
      " 15  Tenure_6.0         6000 non-null   uint8  \n",
      " 16  Tenure_7.0         6000 non-null   uint8  \n",
      " 17  Tenure_8.0         6000 non-null   uint8  \n",
      " 18  Tenure_9.0         6000 non-null   uint8  \n",
      " 19  Tenure_10.0        6000 non-null   uint8  \n",
      " 20  Tenure_nan         6000 non-null   uint8  \n",
      "dtypes: float64(2), int64(5), uint8(14)\n",
      "memory usage: 457.0 KB\n"
     ]
    }
   ],
   "source": [
    "features_train = pd.get_dummies(features_train, drop_first=True)\n",
    "features_train.info()"
   ]
  },
  {
   "cell_type": "code",
   "execution_count": 11,
   "metadata": {
    "scrolled": true
   },
   "outputs": [
    {
     "name": "stdout",
     "output_type": "stream",
     "text": [
      "<class 'pandas.core.frame.DataFrame'>\n",
      "Int64Index: 2000 entries, 7041 to 3366\n",
      "Data columns (total 21 columns):\n",
      " #   Column             Non-Null Count  Dtype  \n",
      "---  ------             --------------  -----  \n",
      " 0   CreditScore        2000 non-null   int64  \n",
      " 1   Age                2000 non-null   int64  \n",
      " 2   Balance            2000 non-null   float64\n",
      " 3   NumOfProducts      2000 non-null   int64  \n",
      " 4   HasCrCard          2000 non-null   int64  \n",
      " 5   IsActiveMember     2000 non-null   int64  \n",
      " 6   EstimatedSalary    2000 non-null   float64\n",
      " 7   Geography_Germany  2000 non-null   uint8  \n",
      " 8   Geography_Spain    2000 non-null   uint8  \n",
      " 9   Gender_Male        2000 non-null   uint8  \n",
      " 10  Tenure_1.0         2000 non-null   uint8  \n",
      " 11  Tenure_2.0         2000 non-null   uint8  \n",
      " 12  Tenure_3.0         2000 non-null   uint8  \n",
      " 13  Tenure_4.0         2000 non-null   uint8  \n",
      " 14  Tenure_5.0         2000 non-null   uint8  \n",
      " 15  Tenure_6.0         2000 non-null   uint8  \n",
      " 16  Tenure_7.0         2000 non-null   uint8  \n",
      " 17  Tenure_8.0         2000 non-null   uint8  \n",
      " 18  Tenure_9.0         2000 non-null   uint8  \n",
      " 19  Tenure_10.0        2000 non-null   uint8  \n",
      " 20  Tenure_nan         2000 non-null   uint8  \n",
      "dtypes: float64(2), int64(5), uint8(14)\n",
      "memory usage: 152.3 KB\n"
     ]
    }
   ],
   "source": [
    "features_valid = pd.get_dummies(features_valid, drop_first=True)\n",
    "features_valid.info()"
   ]
  },
  {
   "cell_type": "code",
   "execution_count": 12,
   "metadata": {
    "scrolled": true
   },
   "outputs": [
    {
     "name": "stdout",
     "output_type": "stream",
     "text": [
      "<class 'pandas.core.frame.DataFrame'>\n",
      "Int64Index: 2000 entries, 8532 to 6895\n",
      "Data columns (total 21 columns):\n",
      " #   Column             Non-Null Count  Dtype  \n",
      "---  ------             --------------  -----  \n",
      " 0   CreditScore        2000 non-null   int64  \n",
      " 1   Age                2000 non-null   int64  \n",
      " 2   Balance            2000 non-null   float64\n",
      " 3   NumOfProducts      2000 non-null   int64  \n",
      " 4   HasCrCard          2000 non-null   int64  \n",
      " 5   IsActiveMember     2000 non-null   int64  \n",
      " 6   EstimatedSalary    2000 non-null   float64\n",
      " 7   Geography_Germany  2000 non-null   uint8  \n",
      " 8   Geography_Spain    2000 non-null   uint8  \n",
      " 9   Gender_Male        2000 non-null   uint8  \n",
      " 10  Tenure_1.0         2000 non-null   uint8  \n",
      " 11  Tenure_2.0         2000 non-null   uint8  \n",
      " 12  Tenure_3.0         2000 non-null   uint8  \n",
      " 13  Tenure_4.0         2000 non-null   uint8  \n",
      " 14  Tenure_5.0         2000 non-null   uint8  \n",
      " 15  Tenure_6.0         2000 non-null   uint8  \n",
      " 16  Tenure_7.0         2000 non-null   uint8  \n",
      " 17  Tenure_8.0         2000 non-null   uint8  \n",
      " 18  Tenure_9.0         2000 non-null   uint8  \n",
      " 19  Tenure_10.0        2000 non-null   uint8  \n",
      " 20  Tenure_nan         2000 non-null   uint8  \n",
      "dtypes: float64(2), int64(5), uint8(14)\n",
      "memory usage: 152.3 KB\n"
     ]
    }
   ],
   "source": [
    "features_test = pd.get_dummies(features_test, drop_first=True)\n",
    "features_test.info()"
   ]
  },
  {
   "cell_type": "markdown",
   "metadata": {},
   "source": [
    "### Масштабирование числовых признаков"
   ]
  },
  {
   "cell_type": "code",
   "execution_count": 13,
   "metadata": {},
   "outputs": [],
   "source": [
    "pd.options.mode.chained_assignment = None\n",
    "scaler = StandardScaler()\n",
    "numeric = ['CreditScore', 'Age',  'Balance', 'NumOfProducts', 'EstimatedSalary']\n",
    "scaler.fit(features_train[numeric])\n",
    "\n",
    "features_train[numeric] = scaler.transform(features_train[numeric])\n",
    "features_valid[numeric] = scaler.transform(features_valid[numeric])\n",
    "features_test[numeric] = scaler.transform(features_test[numeric])"
   ]
  },
  {
   "cell_type": "markdown",
   "metadata": {},
   "source": [
    "## Исследование задачи"
   ]
  },
  {
   "cell_type": "markdown",
   "metadata": {},
   "source": [
    "### Дерево\n"
   ]
  },
  {
   "cell_type": "code",
   "execution_count": 44,
   "metadata": {},
   "outputs": [
    {
     "name": "stdout",
     "output_type": "stream",
     "text": [
      "F1-мера наилучшей модели решающего дерева на валидационной выборке:, 0.53\n",
      "Глубина: 6\n"
     ]
    }
   ],
   "source": [
    "best_tree_model = None\n",
    "best_tree_result = 0\n",
    "best_tree_depth = 0 \n",
    "for i in range(1,100):\n",
    "    model = DecisionTreeClassifier(random_state=12345, max_depth=i, min_samples_split = 5)    \n",
    "    model.fit(features_train, target_train)\n",
    "    result = f1_score(target_valid,model. predict(features_valid))\n",
    "    if result > best_tree_result:\n",
    "        best_tree_depth = i\n",
    "        best_tree_model = model\n",
    "        best_tree_result = result\n",
    "print(f'F1-мера наилучшей модели решающего дерева на валидационной выборке:, {best_tree_result:.2}')\n",
    "print('Глубина:', best_tree_depth)"
   ]
  },
  {
   "cell_type": "code",
   "execution_count": 15,
   "metadata": {},
   "outputs": [
    {
     "data": {
      "image/png": "[encoded data removed]",
      "text/plain": [
       "<Figure size 640x480 with 1 Axes>"
      ]
     },
     "metadata": {},
     "output_type": "display_data"
    }
   ],
   "source": [
    "probabilities_valid_tree = best_tree_model.predict_proba(features_valid)\n",
    "probabilities_one_valid_tree = probabilities_valid_tree[:, 1]\n",
    "\n",
    "\n",
    "fpr, tpr, thresholds = roc_curve(target_valid, probabilities_one_valid_tree) \n",
    "\n",
    "plt.figure()\n",
    "\n",
    "# < постройте график >\n",
    "\n",
    "# ROC-кривая случайной модели (выглядит как прямая)\n",
    "plt.plot([0, 1], [0, 1], linestyle='--')\n",
    "\n",
    "plt.plot(fpr, tpr)\n",
    "plt.xlim([0.0, 1.0])\n",
    "plt.ylim([0.0, 1.0])\n",
    "plt.xlabel('False Positive Rate')\n",
    "plt.ylabel('True Positive Rate')\n",
    "plt.title('ROC-кривая')\n",
    "plt.show()"
   ]
  },
  {
   "cell_type": "code",
   "execution_count": 43,
   "metadata": {},
   "outputs": [
    {
     "name": "stdout",
     "output_type": "stream",
     "text": [
      "0.84\n"
     ]
    }
   ],
   "source": [
    "auc_roc = roc_auc_score(target_valid, probabilities_one_valid_tree)\n",
    "\n",
    "print(f'{auc_roc:.2}')"
   ]
  },
  {
   "cell_type": "markdown",
   "metadata": {},
   "source": [
    "### Регрессия\n"
   ]
  },
  {
   "cell_type": "code",
   "execution_count": 17,
   "metadata": {},
   "outputs": [
    {
     "name": "stdout",
     "output_type": "stream",
     "text": [
      "F1-мера наилучшей модели логистической регрессии на валидационной выборке:0.28\n",
      "Максимальное число итераций: 100\n"
     ]
    }
   ],
   "source": [
    "best_regression_model = None\n",
    "best_regression_result = 0\n",
    "best_iter = 0\n",
    "for i in range(100, 1000):\n",
    "    model = LogisticRegression(random_state=12345, solver='lbfgs', max_iter=i)\n",
    "    model.fit(features_train, target_train)\n",
    "    result = f1_score(target_valid,model. predict(features_valid))\n",
    "    if result > best_regression_result:\n",
    "        best_regression_model = model\n",
    "        best_regression_result = result\n",
    "        best_iter = i\n",
    "        \n",
    "print(f'F1-мера наилучшей модели логистической регрессии на валидационной выборке:{best_regression_result:.2}')\n",
    "print('Максимальное число итераций:', best_iter)"
   ]
  },
  {
   "cell_type": "code",
   "execution_count": 18,
   "metadata": {},
   "outputs": [
    {
     "data": {
      "image/png": "[encoded data removed]",
      "text/plain": [
       "<Figure size 640x480 with 1 Axes>"
      ]
     },
     "metadata": {},
     "output_type": "display_data"
    }
   ],
   "source": [
    "probabilities_valid_regression = best_regression_model.predict_proba(features_valid)\n",
    "probabilities_one_valid_regression = probabilities_valid_regression[:, 1]\n",
    "\n",
    "\n",
    "fpr, tpr, thresholds = roc_curve(target_valid, probabilities_one_valid_regression) \n",
    "\n",
    "plt.figure()\n",
    "\n",
    "# < постройте график >\n",
    "\n",
    "# ROC-кривая случайной модели (выглядит как прямая)\n",
    "plt.plot([0, 1], [0, 1], linestyle='--')\n",
    "\n",
    "plt.plot(fpr, tpr)\n",
    "plt.xlim([0.0, 1.0])\n",
    "plt.ylim([0.0, 1.0])\n",
    "plt.xlabel('False Positive Rate')\n",
    "plt.ylabel('True Positive Rate')\n",
    "plt.title('ROC-кривая')\n",
    "plt.show()"
   ]
  },
  {
   "cell_type": "code",
   "execution_count": 40,
   "metadata": {},
   "outputs": [
    {
     "name": "stdout",
     "output_type": "stream",
     "text": [
      "0.74\n"
     ]
    }
   ],
   "source": [
    "auc_roc = roc_auc_score(target_valid, probabilities_one_valid_regression)\n",
    "\n",
    "print(f'{auc_roc:.2}')"
   ]
  },
  {
   "cell_type": "markdown",
   "metadata": {},
   "source": [
    "### Лес"
   ]
  },
  {
   "cell_type": "code",
   "execution_count": 20,
   "metadata": {},
   "outputs": [
    {
     "name": "stdout",
     "output_type": "stream",
     "text": [
      "F1-мера наилучшей модели случайного леса на валидационной выборке: 0.46262341325811\n",
      "Число деревьев: 1\n"
     ]
    }
   ],
   "source": [
    "best_forest_model = None\n",
    "best_forest_result = 0\n",
    "best_est = 0\n",
    "for est in range(1, 500):\n",
    "    #максимальная глубина кажого дерева равна наилучшей максимальной глубине решающего дерева\n",
    "    model = RandomForestClassifier(random_state=12345, n_estimators=est, max_depth=best_tree_depth) \n",
    "    model.fit(features_train, target_train)\n",
    "    result = f1_score(target_valid,model. predict(features_valid))\n",
    "    if result > best_forest_result:\n",
    "        best_forest_model = model\n",
    "        best_forest_result = result\n",
    "        best_est = est\n",
    "\n",
    "print(f'F1-мера наилучшей модели случайного леса на валидационной выборке:, {best_forest_result:.2}')\n",
    "print('Число деревьев:', best_est)"
   ]
  },
  {
   "cell_type": "code",
   "execution_count": 21,
   "metadata": {
    "scrolled": true
   },
   "outputs": [
    {
     "data": {
      "image/png": "[encoded data removed]",
      "text/plain": [
       "<Figure size 640x480 with 1 Axes>"
      ]
     },
     "metadata": {},
     "output_type": "display_data"
    }
   ],
   "source": [
    "probabilities_valid_forest = best_forest_model.predict_proba(features_valid)\n",
    "probabilities_one_valid_forest = probabilities_valid_forest[:, 1]\n",
    "\n",
    "\n",
    "fpr, tpr, thresholds = roc_curve(target_valid, probabilities_one_valid_forest) \n",
    "\n",
    "plt.figure()\n",
    "\n",
    "# < постройте график >\n",
    "\n",
    "# ROC-кривая случайной модели (выглядит как прямая)\n",
    "plt.plot([0, 1], [0, 1], linestyle='--')\n",
    "\n",
    "plt.plot(fpr, tpr)\n",
    "plt.xlim([0.0, 1.0])\n",
    "plt.ylim([0.0, 1.0])\n",
    "plt.xlabel('False Positive Rate')\n",
    "plt.ylabel('True Positive Rate')\n",
    "plt.title('ROC-кривая')\n",
    "plt.show()"
   ]
  },
  {
   "cell_type": "code",
   "execution_count": 22,
   "metadata": {},
   "outputs": [
    {
     "name": "stdout",
     "output_type": "stream",
     "text": [
      "0.7059983120237575\n"
     ]
    }
   ],
   "source": [
    "auc_roc = roc_auc_score(target_valid, probabilities_one_valid_forest)\n",
    "\n",
    "print(auc_roc)"
   ]
  },
  {
   "cell_type": "markdown",
   "metadata": {},
   "source": [
    "### Вывод\n",
    "* На несбалансированной выборке не удалось получить значение F1-меры даже 0.56\n",
    "* Неочевидно, но решающее дерево дает лучший результат чем случайный лес"
   ]
  },
  {
   "cell_type": "markdown",
   "metadata": {},
   "source": [
    "## Борьба с дисбалансом"
   ]
  },
  {
   "cell_type": "markdown",
   "metadata": {},
   "source": [
    "### Величина дисбаланса"
   ]
  },
  {
   "cell_type": "code",
   "execution_count": 23,
   "metadata": {},
   "outputs": [
    {
     "name": "stdout",
     "output_type": "stream",
     "text": [
      "Число наблюдений положительного класа: 1196\n",
      "Число наблюдений отрицательного класа: 4804\n"
     ]
    }
   ],
   "source": [
    "print('Число наблюдений положительного класа:', (target_train == 1).sum())\n",
    "print('Число наблюдений отрицательного класа:', (target_train == 0).sum())"
   ]
  },
  {
   "cell_type": "code",
   "execution_count": 24,
   "metadata": {},
   "outputs": [
    {
     "name": "stdout",
     "output_type": "stream",
     "text": [
      "Отношение положительного класа к отрицательному: 0.24895920066611157\n",
      "Отношение отрицательного класа к положительному: 4.016722408026756\n"
     ]
    }
   ],
   "source": [
    "print('Отношение положительного класа к отрицательному:', (target_train == 1).sum()/(target_train == 0).sum())\n",
    "print('Отношение отрицательного класа к положительному:', (target_train == 0).sum()/(target_train == 1).sum())"
   ]
  },
  {
   "cell_type": "markdown",
   "metadata": {},
   "source": [
    "### Сбалансированный вес класов"
   ]
  },
  {
   "cell_type": "code",
   "execution_count": 25,
   "metadata": {},
   "outputs": [
    {
     "name": "stdout",
     "output_type": "stream",
     "text": [
      "F1-мера наилучшей модели дерева: 0.5645472061657034\n"
     ]
    }
   ],
   "source": [
    "model = DecisionTreeClassifier(random_state=12345, max_depth=7, class_weight='balanced')\n",
    "model.fit(features_train, target_train)\n",
    "print(\"F1-мера наилучшей модели дерева:\", f1_score(target_valid,model.predict(features_valid)))"
   ]
  },
  {
   "cell_type": "code",
   "execution_count": 26,
   "metadata": {},
   "outputs": [
    {
     "name": "stdout",
     "output_type": "stream",
     "text": [
      "F1-мера наилучшей модели леса: 0.5932721712538226\n"
     ]
    }
   ],
   "source": [
    "model = RandomForestClassifier(random_state=12345, n_estimators=30, max_depth=7, class_weight='balanced') \n",
    "model.fit(features_train, target_train)\n",
    "print(\"F1-мера наилучшей модели леса:\", f1_score(target_valid,model.predict(features_valid)))"
   ]
  },
  {
   "cell_type": "code",
   "execution_count": 27,
   "metadata": {},
   "outputs": [
    {
     "name": "stdout",
     "output_type": "stream",
     "text": [
      "F1-мера наилучшей модели регрессии: 0.4788245462402766\n"
     ]
    }
   ],
   "source": [
    "model = LogisticRegression(random_state=12345, solver='lbfgs', max_iter=100, class_weight='balanced')\n",
    "model.fit(features_train, target_train)\n",
    "print(\"F1-мера наилучшей модели регрессии:\", f1_score(target_valid,model.predict(features_valid)))"
   ]
  },
  {
   "cell_type": "markdown",
   "metadata": {},
   "source": [
    "### Уменьшение выборки"
   ]
  },
  {
   "cell_type": "code",
   "execution_count": 28,
   "metadata": {},
   "outputs": [],
   "source": [
    "def downsample(features, target, fraction):\n",
    "    features_zeros = features[target == 0]\n",
    "    features_ones = features[target == 1]\n",
    "    target_zeros = target[target == 0]\n",
    "    target_ones = target[target == 1]\n",
    "\n",
    "    features_downsampled = pd.concat(\n",
    "        [features_zeros.sample(frac=fraction, random_state=12345)] + [features_ones])\n",
    "    target_downsampled = pd.concat(\n",
    "        [target_zeros.sample(frac=fraction, random_state=12345)] + [target_ones])\n",
    "    \n",
    "    features_downsampled, target_downsampled = shuffle(\n",
    "        features_downsampled, target_downsampled, random_state=12345)\n",
    "    \n",
    "    return features_downsampled, target_downsampled\n",
    "\n",
    "features_downsampled, target_downsampled = downsample(features_train, target_train, 0.25)"
   ]
  },
  {
   "cell_type": "code",
   "execution_count": 29,
   "metadata": {},
   "outputs": [
    {
     "name": "stdout",
     "output_type": "stream",
     "text": [
      "F1-мера наилучшей модели дерева: 0.5418118466898955\n"
     ]
    }
   ],
   "source": [
    "model = DecisionTreeClassifier(random_state=12345, max_depth=7)\n",
    "model.fit(features_downsampled, target_downsampled)\n",
    "print(\"F1-мера наилучшей модели дерева:\", f1_score(target_valid,model.predict(features_valid)))"
   ]
  },
  {
   "cell_type": "code",
   "execution_count": 30,
   "metadata": {},
   "outputs": [
    {
     "name": "stdout",
     "output_type": "stream",
     "text": [
      "F1-мера наилучшей модели леса: 0.5805243445692885\n"
     ]
    }
   ],
   "source": [
    "model = RandomForestClassifier(random_state=12345, n_estimators=30, max_depth=7) \n",
    "model.fit(features_downsampled, target_downsampled)\n",
    "print(\"F1-мера наилучшей модели леса:\", f1_score(target_valid,model.predict(features_valid)))"
   ]
  },
  {
   "cell_type": "code",
   "execution_count": 31,
   "metadata": {},
   "outputs": [
    {
     "name": "stdout",
     "output_type": "stream",
     "text": [
      "F1-мера наилучшей модели регрессии: 0.47200689061154183\n"
     ]
    }
   ],
   "source": [
    "model = LogisticRegression(random_state=12345, solver='lbfgs', max_iter=100)\n",
    "model.fit(features_downsampled, target_downsampled)\n",
    "print(\"F1-мера наилучшей модели регрессии:\", f1_score(target_valid,model.predict(features_valid)))"
   ]
  },
  {
   "cell_type": "markdown",
   "metadata": {},
   "source": [
    "### Увеличение выборки"
   ]
  },
  {
   "cell_type": "code",
   "execution_count": 32,
   "metadata": {},
   "outputs": [],
   "source": [
    "def upsample(features, target, repeat):\n",
    "    features_zeros = features[target == 0]\n",
    "    features_ones = features[target == 1]\n",
    "    target_zeros = target[target == 0]\n",
    "    target_ones = target[target == 1]\n",
    "\n",
    "    features_upsampled = pd.concat([features_zeros] + [features_ones] * repeat)\n",
    "    target_upsampled = pd.concat([target_zeros] + [target_ones] * repeat)\n",
    "    \n",
    "    features_upsampled, target_upsampled = shuffle(\n",
    "        features_upsampled, target_upsampled, random_state=12345)\n",
    "    \n",
    "    return features_upsampled, target_upsampled\n",
    "\n",
    "features_upsampled, target_upsampled = upsample(features_train, target_train, 4)"
   ]
  },
  {
   "cell_type": "code",
   "execution_count": 33,
   "metadata": {},
   "outputs": [
    {
     "name": "stdout",
     "output_type": "stream",
     "text": [
      "F1-мера наилучшей модели дерева: 0.566183574879227\n"
     ]
    }
   ],
   "source": [
    "model = DecisionTreeClassifier(random_state=12345, max_depth=7)\n",
    "model.fit(features_upsampled, target_upsampled)\n",
    "print(\"F1-мера наилучшей модели дерева:\", f1_score(target_valid,model.predict(features_valid)))"
   ]
  },
  {
   "cell_type": "code",
   "execution_count": 34,
   "metadata": {},
   "outputs": [
    {
     "name": "stdout",
     "output_type": "stream",
     "text": [
      "F1-мера наилучшей модели леса: 0.5819265143992055\n"
     ]
    }
   ],
   "source": [
    "model = RandomForestClassifier(random_state=12345, n_estimators=30, max_depth=7) \n",
    "model.fit(features_upsampled, target_upsampled)\n",
    "print(\"F1-мера наилучшей модели леса:\", f1_score(target_valid,model.predict(features_valid)))"
   ]
  },
  {
   "cell_type": "code",
   "execution_count": 35,
   "metadata": {},
   "outputs": [
    {
     "name": "stdout",
     "output_type": "stream",
     "text": [
      "F1-мера наилучшей модели регрессии: 0.4795829713292789\n"
     ]
    }
   ],
   "source": [
    "model = LogisticRegression(random_state=12345, solver='lbfgs', max_iter=100)\n",
    "model.fit(features_upsampled, target_upsampled)\n",
    "print(\"F1-мера наилучшей модели регрессии:\", f1_score(target_valid,model.predict(features_valid)))"
   ]
  },
  {
   "cell_type": "markdown",
   "metadata": {},
   "source": [
    "### Вывод\n",
    "* Балансировка веса класса дает лучший результат, чем преобразования обучающей выборки\n",
    "* На сбаланированных выборках, как и положено, наиболее сложная модель дает наилучший результат."
   ]
  },
  {
   "cell_type": "markdown",
   "metadata": {},
   "source": [
    "## Тестирование модели"
   ]
  },
  {
   "cell_type": "code",
   "execution_count": 36,
   "metadata": {},
   "outputs": [
    {
     "name": "stdout",
     "output_type": "stream",
     "text": [
      "F1-мера наилучшей модели леса на валидационной выборке: 0.5932721712538226\n"
     ]
    }
   ],
   "source": [
    "model = RandomForestClassifier(random_state=12345, n_estimators=30, max_depth=7, class_weight='balanced') \n",
    "model.fit(features_train, target_train)\n",
    "print(\"F1-мера наилучшей модели леса на валидационной выборке:\", f1_score(target_valid,model.predict(features_valid)))"
   ]
  },
  {
   "cell_type": "code",
   "execution_count": 37,
   "metadata": {},
   "outputs": [
    {
     "name": "stdout",
     "output_type": "stream",
     "text": [
      "F1-мера наилучшей модели леса на тестовой выборке: 0.6076210092687949\n"
     ]
    }
   ],
   "source": [
    "print(\"F1-мера наилучшей модели леса на тестовой выборке:\", f1_score(target_test,model.predict(features_test)))"
   ]
  },
  {
   "cell_type": "code",
   "execution_count": 38,
   "metadata": {
    "scrolled": true
   },
   "outputs": [
    {
     "data": {
      "image/png": "[encoded data removed]",
      "text/plain": [
       "<Figure size 640x480 with 1 Axes>"
      ]
     },
     "metadata": {},
     "output_type": "display_data"
    }
   ],
   "source": [
    "probabilities_test = model.predict_proba(features_test)\n",
    "probabilities_one_test = probabilities_test[:, 1]\n",
    "\n",
    "\n",
    "fpr, tpr, thresholds = roc_curve(target_test, probabilities_one_test) \n",
    "\n",
    "plt.figure()\n",
    "\n",
    "# < постройте график >\n",
    "\n",
    "# ROC-кривая случайной модели (выглядит как прямая)\n",
    "plt.plot([0, 1], [0, 1], linestyle='--')\n",
    "\n",
    "plt.plot(fpr, tpr)\n",
    "plt.xlim([0.0, 1.0])\n",
    "plt.ylim([0.0, 1.0])\n",
    "plt.xlabel('False Positive Rate')\n",
    "plt.ylabel('True Positive Rate')\n",
    "plt.title('ROC-кривая')\n",
    "plt.show()"
   ]
  },
  {
   "cell_type": "code",
   "execution_count": 39,
   "metadata": {},
   "outputs": [
    {
     "name": "stdout",
     "output_type": "stream",
     "text": [
      "0.8481012466806599\n"
     ]
    }
   ],
   "source": [
    "auc_roc = roc_auc_score(target_test, probabilities_one_test)\n",
    "\n",
    "print(auc_roc)"
   ]
  },
  {
   "cell_type": "markdown",
   "metadata": {},
   "source": [
    "## Общий вывод\n",
    "В результате выполнение проекта были произведены следующие действия:\n",
    "* Загружены и подготовьте данные. \n",
    "* Обучены модели без учёта дисбаланса классов.\n",
    "* Обучены модели с учетом дисбаланса классов.\n",
    "* Найдена лучшая модель\n",
    "* Достигнуто значение F1-меры в 0.59\n",
    "* Проведено финальное тестирование\n",
    "\n",
    "**Основной вывод:** дисбаланс классов сильно ухудшает качество моделй и является серьезной проблемой."
   ]
  }
 ],
 "metadata": {
  "ExecuteTimeLog": [
   {
    "duration": 436,
    "start_time": "2022-11-19T16:28:47.078Z"
   },
   {
    "duration": 58,
    "start_time": "2022-11-19T16:32:38.709Z"
   },
   {
    "duration": 172,
    "start_time": "2022-11-19T16:32:55.897Z"
   },
   {
    "duration": 50,
    "start_time": "2022-11-19T16:33:03.083Z"
   },
   {
    "duration": 9,
    "start_time": "2022-11-19T16:37:07.932Z"
   },
   {
    "duration": 7,
    "start_time": "2022-11-19T16:37:15.848Z"
   },
   {
    "duration": 22,
    "start_time": "2022-11-19T16:37:24.526Z"
   },
   {
    "duration": 1163,
    "start_time": "2022-11-20T12:09:22.403Z"
   },
   {
    "duration": 174,
    "start_time": "2022-11-20T12:09:30.141Z"
   },
   {
    "duration": 21,
    "start_time": "2022-11-20T12:09:34.687Z"
   },
   {
    "duration": 46,
    "start_time": "2022-11-20T12:10:27.895Z"
   },
   {
    "duration": 16,
    "start_time": "2022-11-20T12:10:36.959Z"
   },
   {
    "duration": 3,
    "start_time": "2022-11-20T12:30:45.086Z"
   },
   {
    "duration": 121,
    "start_time": "2022-11-20T12:30:50.950Z"
   },
   {
    "duration": 13,
    "start_time": "2022-11-20T12:41:11.436Z"
   },
   {
    "duration": 20,
    "start_time": "2022-11-20T12:42:01.171Z"
   },
   {
    "duration": 15,
    "start_time": "2022-11-20T12:43:09.577Z"
   },
   {
    "duration": 3,
    "start_time": "2022-11-20T12:44:30.379Z"
   },
   {
    "duration": 85,
    "start_time": "2022-11-20T12:44:30.384Z"
   },
   {
    "duration": 15,
    "start_time": "2022-11-20T12:44:30.471Z"
   },
   {
    "duration": 37,
    "start_time": "2022-11-20T12:44:30.487Z"
   },
   {
    "duration": 32,
    "start_time": "2022-11-20T12:44:30.526Z"
   },
   {
    "duration": 4,
    "start_time": "2022-11-20T12:58:19.903Z"
   },
   {
    "duration": 49,
    "start_time": "2022-11-20T13:00:11.503Z"
   },
   {
    "duration": 16,
    "start_time": "2022-11-20T13:00:19.643Z"
   },
   {
    "duration": 4,
    "start_time": "2022-11-20T13:00:27.726Z"
   },
   {
    "duration": 14,
    "start_time": "2022-11-20T13:01:24.287Z"
   },
   {
    "duration": 12,
    "start_time": "2022-11-20T13:04:49.586Z"
   },
   {
    "duration": 6,
    "start_time": "2022-11-20T13:05:28.582Z"
   },
   {
    "duration": 7,
    "start_time": "2022-11-20T13:05:42.616Z"
   },
   {
    "duration": 20,
    "start_time": "2022-11-20T13:06:09.303Z"
   },
   {
    "duration": 3,
    "start_time": "2022-11-20T13:08:06.548Z"
   },
   {
    "duration": 5,
    "start_time": "2022-11-20T13:08:25.961Z"
   },
   {
    "duration": 5,
    "start_time": "2022-11-20T13:08:53.273Z"
   },
   {
    "duration": 15,
    "start_time": "2022-11-20T13:10:10.914Z"
   },
   {
    "duration": 18,
    "start_time": "2022-11-20T13:10:17.606Z"
   },
   {
    "duration": 50,
    "start_time": "2022-11-20T13:10:25.282Z"
   },
   {
    "duration": 3,
    "start_time": "2022-11-20T13:24:14.250Z"
   },
   {
    "duration": 8,
    "start_time": "2022-11-20T13:24:20.918Z"
   },
   {
    "duration": 6,
    "start_time": "2022-11-20T13:29:15.126Z"
   },
   {
    "duration": 390,
    "start_time": "2022-11-20T13:31:18.345Z"
   },
   {
    "duration": 19,
    "start_time": "2022-11-20T13:31:25.506Z"
   },
   {
    "duration": 3,
    "start_time": "2022-11-20T13:31:52.983Z"
   },
   {
    "duration": 117,
    "start_time": "2022-11-20T13:32:00.544Z"
   },
   {
    "duration": 54,
    "start_time": "2022-11-21T16:14:32.055Z"
   },
   {
    "duration": 0,
    "start_time": "2022-11-21T16:14:32.111Z"
   },
   {
    "duration": 0,
    "start_time": "2022-11-21T16:14:32.112Z"
   },
   {
    "duration": 1458,
    "start_time": "2022-11-21T16:15:38.443Z"
   },
   {
    "duration": 93,
    "start_time": "2022-11-21T16:15:39.903Z"
   },
   {
    "duration": 19,
    "start_time": "2022-11-21T16:15:39.998Z"
   },
   {
    "duration": 6,
    "start_time": "2022-11-21T16:15:40.020Z"
   },
   {
    "duration": 10,
    "start_time": "2022-11-21T16:15:40.028Z"
   },
   {
    "duration": 33,
    "start_time": "2022-11-21T16:15:40.040Z"
   },
   {
    "duration": 22,
    "start_time": "2022-11-21T16:15:40.075Z"
   },
   {
    "duration": 52,
    "start_time": "2022-11-21T16:15:40.098Z"
   },
   {
    "duration": 131,
    "start_time": "2022-11-21T16:15:40.151Z"
   },
   {
    "duration": 5,
    "start_time": "2022-11-21T16:15:40.284Z"
   },
   {
    "duration": 43,
    "start_time": "2022-11-21T16:16:14.643Z"
   },
   {
    "duration": 46,
    "start_time": "2022-11-21T16:16:26.083Z"
   },
   {
    "duration": 42,
    "start_time": "2022-11-21T16:16:34.576Z"
   },
   {
    "duration": 110,
    "start_time": "2022-11-21T16:16:47.460Z"
   },
   {
    "duration": 114,
    "start_time": "2022-11-21T16:18:52.852Z"
   },
   {
    "duration": 6,
    "start_time": "2022-11-21T16:19:18.758Z"
   },
   {
    "duration": 6,
    "start_time": "2022-11-21T16:19:56.361Z"
   },
   {
    "duration": 6,
    "start_time": "2022-11-21T16:25:26.587Z"
   },
   {
    "duration": 4,
    "start_time": "2022-11-21T16:25:50.102Z"
   },
   {
    "duration": 4,
    "start_time": "2022-11-21T16:26:20.013Z"
   },
   {
    "duration": 78,
    "start_time": "2022-11-21T16:34:38.423Z"
   },
   {
    "duration": 3,
    "start_time": "2022-11-21T16:34:45.301Z"
   },
   {
    "duration": 13,
    "start_time": "2022-11-21T16:34:53.095Z"
   },
   {
    "duration": 8,
    "start_time": "2022-11-21T16:35:05.344Z"
   },
   {
    "duration": 9,
    "start_time": "2022-11-21T16:36:49.950Z"
   },
   {
    "duration": 19,
    "start_time": "2022-11-21T16:37:36.545Z"
   },
   {
    "duration": 10,
    "start_time": "2022-11-21T16:37:46.159Z"
   },
   {
    "duration": 3,
    "start_time": "2022-11-21T16:48:27.810Z"
   },
   {
    "duration": 75,
    "start_time": "2022-11-21T16:48:27.815Z"
   },
   {
    "duration": 15,
    "start_time": "2022-11-21T16:48:27.891Z"
   },
   {
    "duration": 12,
    "start_time": "2022-11-21T16:48:27.908Z"
   },
   {
    "duration": 16,
    "start_time": "2022-11-21T16:48:27.922Z"
   },
   {
    "duration": 23,
    "start_time": "2022-11-21T16:48:27.940Z"
   },
   {
    "duration": 24,
    "start_time": "2022-11-21T16:48:27.964Z"
   },
   {
    "duration": 8,
    "start_time": "2022-11-21T16:48:32.956Z"
   },
   {
    "duration": 22,
    "start_time": "2022-11-21T16:48:37.328Z"
   },
   {
    "duration": 28,
    "start_time": "2022-11-21T16:49:18.063Z"
   },
   {
    "duration": 20,
    "start_time": "2022-11-21T16:49:28.125Z"
   },
   {
    "duration": 43,
    "start_time": "2022-11-21T16:49:41.946Z"
   },
   {
    "duration": 114,
    "start_time": "2022-11-21T16:50:20.578Z"
   },
   {
    "duration": 4,
    "start_time": "2022-11-21T16:50:35.600Z"
   },
   {
    "duration": 65,
    "start_time": "2022-11-21T16:50:35.606Z"
   },
   {
    "duration": 16,
    "start_time": "2022-11-21T16:50:35.672Z"
   },
   {
    "duration": 22,
    "start_time": "2022-11-21T16:50:35.690Z"
   },
   {
    "duration": 8,
    "start_time": "2022-11-21T16:50:35.714Z"
   },
   {
    "duration": 39,
    "start_time": "2022-11-21T16:50:35.723Z"
   },
   {
    "duration": 17,
    "start_time": "2022-11-21T16:50:35.764Z"
   },
   {
    "duration": 7,
    "start_time": "2022-11-21T16:50:35.782Z"
   },
   {
    "duration": 21,
    "start_time": "2022-11-21T16:50:35.790Z"
   },
   {
    "duration": 39,
    "start_time": "2022-11-21T16:50:35.813Z"
   },
   {
    "duration": 120,
    "start_time": "2022-11-21T16:50:35.854Z"
   },
   {
    "duration": 5,
    "start_time": "2022-11-21T16:50:35.976Z"
   },
   {
    "duration": 18,
    "start_time": "2022-11-21T16:50:35.983Z"
   },
   {
    "duration": 1334,
    "start_time": "2022-11-21T16:50:55.304Z"
   },
   {
    "duration": 50,
    "start_time": "2022-11-21T16:50:56.640Z"
   },
   {
    "duration": 20,
    "start_time": "2022-11-21T16:50:56.692Z"
   },
   {
    "duration": 7,
    "start_time": "2022-11-21T16:50:56.714Z"
   },
   {
    "duration": 9,
    "start_time": "2022-11-21T16:50:56.722Z"
   },
   {
    "duration": 21,
    "start_time": "2022-11-21T16:50:56.733Z"
   },
   {
    "duration": 18,
    "start_time": "2022-11-21T16:50:56.756Z"
   },
   {
    "duration": 6,
    "start_time": "2022-11-21T16:50:56.775Z"
   },
   {
    "duration": 37,
    "start_time": "2022-11-21T16:50:56.783Z"
   },
   {
    "duration": 39,
    "start_time": "2022-11-21T16:50:56.822Z"
   },
   {
    "duration": 135,
    "start_time": "2022-11-21T16:50:56.862Z"
   },
   {
    "duration": 5,
    "start_time": "2022-11-21T16:50:56.998Z"
   },
   {
    "duration": 14,
    "start_time": "2022-11-21T16:50:57.004Z"
   },
   {
    "duration": 17,
    "start_time": "2022-11-21T16:51:21.591Z"
   },
   {
    "duration": 45,
    "start_time": "2022-11-21T16:53:16.725Z"
   },
   {
    "duration": 120,
    "start_time": "2022-11-21T16:54:43.203Z"
   },
   {
    "duration": 6,
    "start_time": "2022-11-21T16:54:52.587Z"
   },
   {
    "duration": 119,
    "start_time": "2022-11-21T16:56:42.404Z"
   },
   {
    "duration": 112,
    "start_time": "2022-11-21T16:59:38.985Z"
   },
   {
    "duration": 281,
    "start_time": "2022-11-21T16:59:49.639Z"
   },
   {
    "duration": 11,
    "start_time": "2022-11-21T17:01:08.881Z"
   },
   {
    "duration": 6,
    "start_time": "2022-11-21T17:07:14.665Z"
   },
   {
    "duration": 4,
    "start_time": "2022-11-21T17:08:54.808Z"
   },
   {
    "duration": 787,
    "start_time": "2022-11-21T17:09:49.087Z"
   },
   {
    "duration": 164,
    "start_time": "2022-11-21T17:10:34.559Z"
   },
   {
    "duration": 6,
    "start_time": "2022-11-21T17:10:46.005Z"
   },
   {
    "duration": 1788,
    "start_time": "2022-11-27T13:57:35.394Z"
   },
   {
    "duration": 186,
    "start_time": "2022-11-27T13:57:37.184Z"
   },
   {
    "duration": 21,
    "start_time": "2022-11-27T13:57:37.372Z"
   },
   {
    "duration": 4,
    "start_time": "2022-11-27T13:57:37.395Z"
   },
   {
    "duration": 8,
    "start_time": "2022-11-27T13:57:37.401Z"
   },
   {
    "duration": 51,
    "start_time": "2022-11-27T13:57:37.410Z"
   },
   {
    "duration": 23,
    "start_time": "2022-11-27T13:57:37.463Z"
   },
   {
    "duration": 5,
    "start_time": "2022-11-27T13:57:37.488Z"
   },
   {
    "duration": 9,
    "start_time": "2022-11-27T13:57:42.123Z"
   },
   {
    "duration": 40,
    "start_time": "2022-11-27T14:54:15.409Z"
   },
   {
    "duration": 1517,
    "start_time": "2022-11-27T15:04:45.292Z"
   },
   {
    "duration": 3159,
    "start_time": "2022-11-27T15:05:01.128Z"
   },
   {
    "duration": 2966,
    "start_time": "2022-11-27T15:08:00.526Z"
   },
   {
    "duration": 2928,
    "start_time": "2022-11-27T15:10:02.410Z"
   },
   {
    "duration": 2983,
    "start_time": "2022-11-27T15:11:36.709Z"
   },
   {
    "duration": 161,
    "start_time": "2022-11-27T15:12:32.978Z"
   },
   {
    "duration": 11,
    "start_time": "2022-11-27T15:12:56.227Z"
   },
   {
    "duration": 0,
    "start_time": "2022-11-27T15:20:32.489Z"
   },
   {
    "duration": 25356,
    "start_time": "2022-11-27T15:20:35.742Z"
   },
   {
    "duration": 51835,
    "start_time": "2022-11-27T15:21:10.021Z"
   },
   {
    "duration": 209,
    "start_time": "2022-11-27T15:23:05.481Z"
   },
   {
    "duration": 304,
    "start_time": "2022-11-27T15:23:14.559Z"
   },
   {
    "duration": 304,
    "start_time": "2022-11-27T15:23:29.677Z"
   },
   {
    "duration": 12,
    "start_time": "2022-11-27T15:23:36.584Z"
   },
   {
    "duration": 452743,
    "start_time": "2022-11-27T15:25:09.808Z"
   },
   {
    "duration": 442,
    "start_time": "2022-11-27T15:34:09.484Z"
   },
   {
    "duration": 10,
    "start_time": "2022-11-27T15:34:15.787Z"
   },
   {
    "duration": 660770,
    "start_time": "2022-11-27T15:35:06.179Z"
   },
   {
    "duration": 192,
    "start_time": "2022-11-27T15:51:36.107Z"
   },
   {
    "duration": 6,
    "start_time": "2022-11-27T15:51:41.234Z"
   },
   {
    "duration": 5,
    "start_time": "2022-11-27T15:53:43.197Z"
   },
   {
    "duration": 75,
    "start_time": "2022-11-27T16:08:25.154Z"
   },
   {
    "duration": 38,
    "start_time": "2022-11-27T16:08:36.048Z"
   },
   {
    "duration": 34,
    "start_time": "2022-11-27T16:08:57.716Z"
   },
   {
    "duration": 36,
    "start_time": "2022-11-27T16:09:33.406Z"
   },
   {
    "duration": 35,
    "start_time": "2022-11-27T16:10:02.051Z"
   },
   {
    "duration": 223,
    "start_time": "2022-11-27T16:11:37.937Z"
   },
   {
    "duration": 201,
    "start_time": "2022-11-27T16:11:54.510Z"
   },
   {
    "duration": 1393,
    "start_time": "2022-11-27T16:16:42.867Z"
   },
   {
    "duration": 8,
    "start_time": "2022-11-27T17:53:43.088Z"
   },
   {
    "duration": 6,
    "start_time": "2022-11-27T17:53:52.208Z"
   },
   {
    "duration": 7,
    "start_time": "2022-11-27T17:55:52.004Z"
   },
   {
    "duration": 5,
    "start_time": "2022-11-27T17:56:04.042Z"
   },
   {
    "duration": 6,
    "start_time": "2022-11-27T18:02:14.843Z"
   },
   {
    "duration": 33,
    "start_time": "2022-11-27T18:08:24.441Z"
   },
   {
    "duration": 4,
    "start_time": "2022-11-27T18:09:12.910Z"
   },
   {
    "duration": 11,
    "start_time": "2022-11-27T18:09:25.211Z"
   },
   {
    "duration": 24,
    "start_time": "2022-11-27T18:09:31.040Z"
   },
   {
    "duration": 144,
    "start_time": "2022-11-27T18:09:39.740Z"
   },
   {
    "duration": 87,
    "start_time": "2022-11-27T18:09:52.192Z"
   },
   {
    "duration": 27,
    "start_time": "2022-11-27T18:11:35.880Z"
   },
   {
    "duration": 51,
    "start_time": "2022-11-27T18:11:38.942Z"
   },
   {
    "duration": 241,
    "start_time": "2022-11-27T18:11:43.801Z"
   },
   {
    "duration": 561,
    "start_time": "2022-11-27T18:11:49.207Z"
   },
   {
    "duration": 205,
    "start_time": "2022-11-27T18:12:57.981Z"
   },
   {
    "duration": 230,
    "start_time": "2022-11-27T18:13:14.337Z"
   },
   {
    "duration": 30,
    "start_time": "2022-11-27T18:13:51.834Z"
   },
   {
    "duration": 25,
    "start_time": "2022-11-27T18:14:20.341Z"
   },
   {
    "duration": 195,
    "start_time": "2022-11-27T18:25:59.201Z"
   },
   {
    "duration": 7,
    "start_time": "2022-11-27T18:26:04.775Z"
   },
   {
    "duration": 2212,
    "start_time": "2022-11-27T18:48:49.727Z"
   },
   {
    "duration": 115,
    "start_time": "2022-11-27T18:48:51.941Z"
   },
   {
    "duration": 129,
    "start_time": "2022-11-27T18:48:52.058Z"
   },
   {
    "duration": 91,
    "start_time": "2022-11-27T18:48:52.190Z"
   },
   {
    "duration": 171,
    "start_time": "2022-11-27T18:48:52.286Z"
   },
   {
    "duration": 0,
    "start_time": "2022-11-27T18:48:52.471Z"
   },
   {
    "duration": 0,
    "start_time": "2022-11-27T18:48:52.478Z"
   },
   {
    "duration": 0,
    "start_time": "2022-11-27T18:48:52.485Z"
   },
   {
    "duration": 0,
    "start_time": "2022-11-27T18:48:52.487Z"
   },
   {
    "duration": 0,
    "start_time": "2022-11-27T18:48:52.488Z"
   },
   {
    "duration": 0,
    "start_time": "2022-11-27T18:48:52.496Z"
   },
   {
    "duration": 0,
    "start_time": "2022-11-27T18:48:52.499Z"
   },
   {
    "duration": 0,
    "start_time": "2022-11-27T18:48:52.511Z"
   },
   {
    "duration": 0,
    "start_time": "2022-11-27T18:48:52.513Z"
   },
   {
    "duration": 0,
    "start_time": "2022-11-27T18:48:52.515Z"
   },
   {
    "duration": 0,
    "start_time": "2022-11-27T18:48:52.527Z"
   },
   {
    "duration": 0,
    "start_time": "2022-11-27T18:48:52.529Z"
   },
   {
    "duration": 0,
    "start_time": "2022-11-27T18:48:52.541Z"
   },
   {
    "duration": 0,
    "start_time": "2022-11-27T18:48:52.542Z"
   },
   {
    "duration": 0,
    "start_time": "2022-11-27T18:48:52.543Z"
   },
   {
    "duration": 0,
    "start_time": "2022-11-27T18:48:52.545Z"
   },
   {
    "duration": 0,
    "start_time": "2022-11-27T18:48:52.546Z"
   },
   {
    "duration": 0,
    "start_time": "2022-11-27T18:48:52.547Z"
   },
   {
    "duration": 0,
    "start_time": "2022-11-27T18:48:52.548Z"
   },
   {
    "duration": 0,
    "start_time": "2022-11-27T18:48:52.549Z"
   },
   {
    "duration": 0,
    "start_time": "2022-11-27T18:48:52.549Z"
   },
   {
    "duration": 0,
    "start_time": "2022-11-27T18:48:52.550Z"
   },
   {
    "duration": 0,
    "start_time": "2022-11-27T18:48:52.551Z"
   },
   {
    "duration": 0,
    "start_time": "2022-11-27T18:48:52.552Z"
   },
   {
    "duration": 0,
    "start_time": "2022-11-27T18:48:52.553Z"
   },
   {
    "duration": 0,
    "start_time": "2022-11-27T18:48:52.576Z"
   },
   {
    "duration": 0,
    "start_time": "2022-11-27T18:48:52.577Z"
   },
   {
    "duration": 0,
    "start_time": "2022-11-27T18:48:52.578Z"
   },
   {
    "duration": 0,
    "start_time": "2022-11-27T18:48:52.592Z"
   },
   {
    "duration": 0,
    "start_time": "2022-11-27T18:48:52.593Z"
   },
   {
    "duration": 0,
    "start_time": "2022-11-27T18:48:52.594Z"
   },
   {
    "duration": 0,
    "start_time": "2022-11-27T18:48:52.615Z"
   },
   {
    "duration": 15,
    "start_time": "2022-11-27T18:49:19.432Z"
   },
   {
    "duration": 2000,
    "start_time": "2022-11-27T18:49:34.135Z"
   },
   {
    "duration": 90,
    "start_time": "2022-11-27T18:49:36.137Z"
   },
   {
    "duration": 35,
    "start_time": "2022-11-27T18:49:36.232Z"
   },
   {
    "duration": 7,
    "start_time": "2022-11-27T18:49:36.269Z"
   },
   {
    "duration": 52,
    "start_time": "2022-11-27T18:49:36.281Z"
   },
   {
    "duration": 45,
    "start_time": "2022-11-27T18:49:36.334Z"
   },
   {
    "duration": 77,
    "start_time": "2022-11-27T18:49:36.384Z"
   },
   {
    "duration": 36,
    "start_time": "2022-11-27T18:49:36.470Z"
   },
   {
    "duration": 17,
    "start_time": "2022-11-27T18:49:36.513Z"
   },
   {
    "duration": 10,
    "start_time": "2022-11-27T18:49:36.534Z"
   },
   {
    "duration": 61,
    "start_time": "2022-11-27T18:49:36.546Z"
   },
   {
    "duration": 3591,
    "start_time": "2022-11-27T18:49:36.611Z"
   },
   {
    "duration": 220,
    "start_time": "2022-11-27T18:49:40.209Z"
   },
   {
    "duration": 10,
    "start_time": "2022-11-27T18:49:40.434Z"
   },
   {
    "duration": 579717,
    "start_time": "2022-11-27T18:49:40.459Z"
   },
   {
    "duration": 374,
    "start_time": "2022-11-27T18:59:20.194Z"
   },
   {
    "duration": 19,
    "start_time": "2022-11-27T18:59:20.573Z"
   },
   {
    "duration": 655080,
    "start_time": "2022-11-27T18:59:20.603Z"
   },
   {
    "duration": 171,
    "start_time": "2022-11-27T19:10:15.685Z"
   },
   {
    "duration": 7,
    "start_time": "2022-11-27T19:10:15.866Z"
   },
   {
    "duration": 8,
    "start_time": "2022-11-27T19:10:15.877Z"
   },
   {
    "duration": 12,
    "start_time": "2022-11-27T19:10:15.887Z"
   },
   {
    "duration": 32,
    "start_time": "2022-11-27T19:10:15.901Z"
   },
   {
    "duration": 189,
    "start_time": "2022-11-27T19:10:15.935Z"
   },
   {
    "duration": 1453,
    "start_time": "2022-11-27T19:10:16.125Z"
   },
   {
    "duration": 25,
    "start_time": "2022-11-27T19:10:17.652Z"
   },
   {
    "duration": 26,
    "start_time": "2022-11-27T19:10:17.680Z"
   },
   {
    "duration": 114,
    "start_time": "2022-11-27T19:10:17.708Z"
   },
   {
    "duration": 826,
    "start_time": "2022-11-27T19:10:17.824Z"
   },
   {
    "duration": 16,
    "start_time": "2022-11-27T19:10:18.657Z"
   },
   {
    "duration": 98,
    "start_time": "2022-11-27T19:10:18.681Z"
   },
   {
    "duration": 222,
    "start_time": "2022-11-27T19:10:18.782Z"
   },
   {
    "duration": 469,
    "start_time": "2022-11-27T19:10:19.006Z"
   },
   {
    "duration": 336,
    "start_time": "2022-11-27T19:10:19.477Z"
   },
   {
    "duration": 47,
    "start_time": "2022-11-27T19:10:19.815Z"
   },
   {
    "duration": 218,
    "start_time": "2022-11-27T19:10:19.865Z"
   },
   {
    "duration": 11,
    "start_time": "2022-11-27T19:10:20.086Z"
   },
   {
    "duration": 1539,
    "start_time": "2022-11-28T18:04:13.874Z"
   },
   {
    "duration": 161,
    "start_time": "2022-11-28T18:04:15.415Z"
   },
   {
    "duration": 20,
    "start_time": "2022-11-28T18:04:15.578Z"
   },
   {
    "duration": 14,
    "start_time": "2022-11-28T18:04:18.912Z"
   },
   {
    "duration": 111,
    "start_time": "2022-11-28T18:05:28.289Z"
   },
   {
    "duration": 19,
    "start_time": "2022-11-28T18:06:48.639Z"
   },
   {
    "duration": 17,
    "start_time": "2022-11-28T18:09:36.406Z"
   },
   {
    "duration": 1589,
    "start_time": "2022-12-04T12:18:23.699Z"
   },
   {
    "duration": 175,
    "start_time": "2022-12-04T12:18:25.290Z"
   },
   {
    "duration": 29,
    "start_time": "2022-12-04T12:18:25.467Z"
   },
   {
    "duration": 21,
    "start_time": "2022-12-04T12:20:09.447Z"
   },
   {
    "duration": 124,
    "start_time": "2022-12-04T12:21:14.462Z"
   },
   {
    "duration": 22,
    "start_time": "2022-12-04T12:21:27.507Z"
   },
   {
    "duration": 22,
    "start_time": "2022-12-04T12:22:06.623Z"
   },
   {
    "duration": 14,
    "start_time": "2022-12-04T12:36:50.832Z"
   },
   {
    "duration": 5,
    "start_time": "2022-12-04T12:39:12.339Z"
   },
   {
    "duration": 51,
    "start_time": "2022-12-04T12:39:12.347Z"
   },
   {
    "duration": 19,
    "start_time": "2022-12-04T12:39:12.400Z"
   },
   {
    "duration": 11,
    "start_time": "2022-12-04T12:39:12.421Z"
   },
   {
    "duration": 10,
    "start_time": "2022-12-04T12:39:12.434Z"
   },
   {
    "duration": 19,
    "start_time": "2022-12-04T12:39:12.445Z"
   },
   {
    "duration": 12,
    "start_time": "2022-12-04T12:39:12.466Z"
   },
   {
    "duration": 4,
    "start_time": "2022-12-04T12:39:12.480Z"
   },
   {
    "duration": 9,
    "start_time": "2022-12-04T12:39:12.505Z"
   },
   {
    "duration": 20,
    "start_time": "2022-12-04T12:39:16.347Z"
   },
   {
    "duration": 16,
    "start_time": "2022-12-04T12:40:28.928Z"
   },
   {
    "duration": 16,
    "start_time": "2022-12-04T12:40:55.691Z"
   },
   {
    "duration": 14,
    "start_time": "2022-12-04T12:41:07.041Z"
   },
   {
    "duration": 3,
    "start_time": "2022-12-04T12:42:10.675Z"
   },
   {
    "duration": 125,
    "start_time": "2022-12-04T12:42:10.680Z"
   },
   {
    "duration": 15,
    "start_time": "2022-12-04T12:42:10.807Z"
   },
   {
    "duration": 5,
    "start_time": "2022-12-04T12:42:10.823Z"
   },
   {
    "duration": 6,
    "start_time": "2022-12-04T12:42:10.830Z"
   },
   {
    "duration": 19,
    "start_time": "2022-12-04T12:42:10.837Z"
   },
   {
    "duration": 15,
    "start_time": "2022-12-04T12:42:10.858Z"
   },
   {
    "duration": 4,
    "start_time": "2022-12-04T12:42:10.904Z"
   },
   {
    "duration": 19,
    "start_time": "2022-12-04T12:42:10.910Z"
   },
   {
    "duration": 25,
    "start_time": "2022-12-04T12:42:10.931Z"
   },
   {
    "duration": 18,
    "start_time": "2022-12-04T12:42:10.958Z"
   },
   {
    "duration": 42,
    "start_time": "2022-12-04T12:42:10.978Z"
   },
   {
    "duration": 1369,
    "start_time": "2022-12-04T12:46:05.963Z"
   },
   {
    "duration": 59,
    "start_time": "2022-12-04T12:46:07.334Z"
   },
   {
    "duration": 26,
    "start_time": "2022-12-04T12:46:07.395Z"
   },
   {
    "duration": 23,
    "start_time": "2022-12-04T12:46:07.425Z"
   },
   {
    "duration": 41,
    "start_time": "2022-12-04T12:46:07.450Z"
   },
   {
    "duration": 67,
    "start_time": "2022-12-04T12:46:07.493Z"
   },
   {
    "duration": 35,
    "start_time": "2022-12-04T12:46:07.562Z"
   },
   {
    "duration": 45,
    "start_time": "2022-12-04T12:46:07.599Z"
   },
   {
    "duration": 37,
    "start_time": "2022-12-04T12:46:07.645Z"
   },
   {
    "duration": 57,
    "start_time": "2022-12-04T12:46:07.686Z"
   },
   {
    "duration": 35,
    "start_time": "2022-12-04T12:46:07.745Z"
   },
   {
    "duration": 43,
    "start_time": "2022-12-04T12:46:07.783Z"
   },
   {
    "duration": 115,
    "start_time": "2022-12-04T12:46:07.828Z"
   },
   {
    "duration": 0,
    "start_time": "2022-12-04T12:46:07.945Z"
   },
   {
    "duration": 0,
    "start_time": "2022-12-04T12:46:07.946Z"
   },
   {
    "duration": 0,
    "start_time": "2022-12-04T12:46:07.947Z"
   },
   {
    "duration": 0,
    "start_time": "2022-12-04T12:46:07.948Z"
   },
   {
    "duration": 0,
    "start_time": "2022-12-04T12:46:07.949Z"
   },
   {
    "duration": 0,
    "start_time": "2022-12-04T12:46:07.950Z"
   },
   {
    "duration": 0,
    "start_time": "2022-12-04T12:46:07.951Z"
   },
   {
    "duration": 0,
    "start_time": "2022-12-04T12:46:07.952Z"
   },
   {
    "duration": 0,
    "start_time": "2022-12-04T12:46:07.953Z"
   },
   {
    "duration": 0,
    "start_time": "2022-12-04T12:46:07.954Z"
   },
   {
    "duration": 0,
    "start_time": "2022-12-04T12:46:07.955Z"
   },
   {
    "duration": 1,
    "start_time": "2022-12-04T12:46:07.956Z"
   },
   {
    "duration": 0,
    "start_time": "2022-12-04T12:46:07.958Z"
   },
   {
    "duration": 0,
    "start_time": "2022-12-04T12:46:07.959Z"
   },
   {
    "duration": 0,
    "start_time": "2022-12-04T12:46:07.960Z"
   },
   {
    "duration": 0,
    "start_time": "2022-12-04T12:46:07.961Z"
   },
   {
    "duration": 0,
    "start_time": "2022-12-04T12:46:07.962Z"
   },
   {
    "duration": 0,
    "start_time": "2022-12-04T12:46:07.963Z"
   },
   {
    "duration": 0,
    "start_time": "2022-12-04T12:46:07.964Z"
   },
   {
    "duration": 0,
    "start_time": "2022-12-04T12:46:07.965Z"
   },
   {
    "duration": 0,
    "start_time": "2022-12-04T12:46:07.967Z"
   },
   {
    "duration": 0,
    "start_time": "2022-12-04T12:46:07.968Z"
   },
   {
    "duration": 0,
    "start_time": "2022-12-04T12:46:08.005Z"
   },
   {
    "duration": 0,
    "start_time": "2022-12-04T12:46:08.007Z"
   },
   {
    "duration": 0,
    "start_time": "2022-12-04T12:46:08.008Z"
   },
   {
    "duration": 0,
    "start_time": "2022-12-04T12:46:08.010Z"
   },
   {
    "duration": 1295,
    "start_time": "2022-12-04T12:46:49.351Z"
   },
   {
    "duration": 48,
    "start_time": "2022-12-04T12:46:50.648Z"
   },
   {
    "duration": 18,
    "start_time": "2022-12-04T12:46:50.698Z"
   },
   {
    "duration": 28,
    "start_time": "2022-12-04T12:46:50.718Z"
   },
   {
    "duration": 16,
    "start_time": "2022-12-04T12:46:50.747Z"
   },
   {
    "duration": 43,
    "start_time": "2022-12-04T12:46:50.765Z"
   },
   {
    "duration": 41,
    "start_time": "2022-12-04T12:46:50.810Z"
   },
   {
    "duration": 14,
    "start_time": "2022-12-04T12:46:50.852Z"
   },
   {
    "duration": 37,
    "start_time": "2022-12-04T12:46:50.868Z"
   },
   {
    "duration": 32,
    "start_time": "2022-12-04T12:46:50.907Z"
   },
   {
    "duration": 32,
    "start_time": "2022-12-04T12:46:50.941Z"
   },
   {
    "duration": 22,
    "start_time": "2022-12-04T12:46:50.974Z"
   },
   {
    "duration": 25,
    "start_time": "2022-12-04T12:46:50.997Z"
   },
   {
    "duration": 2928,
    "start_time": "2022-12-04T12:46:51.024Z"
   },
   {
    "duration": 125,
    "start_time": "2022-12-04T12:46:53.954Z"
   },
   {
    "duration": 5,
    "start_time": "2022-12-04T12:46:54.081Z"
   },
   {
    "duration": 441720,
    "start_time": "2022-12-04T12:46:54.087Z"
   },
   {
    "duration": 430,
    "start_time": "2022-12-04T12:54:15.810Z"
   },
   {
    "duration": 7,
    "start_time": "2022-12-04T12:54:16.242Z"
   },
   {
    "duration": 440778,
    "start_time": "2022-12-04T12:54:16.252Z"
   },
   {
    "duration": 120,
    "start_time": "2022-12-04T13:01:37.031Z"
   },
   {
    "duration": 5,
    "start_time": "2022-12-04T13:01:37.153Z"
   },
   {
    "duration": 46,
    "start_time": "2022-12-04T13:01:37.160Z"
   },
   {
    "duration": 22,
    "start_time": "2022-12-04T13:01:37.208Z"
   },
   {
    "duration": 53,
    "start_time": "2022-12-04T13:01:37.232Z"
   },
   {
    "duration": 178,
    "start_time": "2022-12-04T13:01:37.286Z"
   },
   {
    "duration": 248,
    "start_time": "2022-12-04T13:01:37.466Z"
   },
   {
    "duration": 95,
    "start_time": "2022-12-04T13:01:37.719Z"
   },
   {
    "duration": 144,
    "start_time": "2022-12-04T13:01:37.816Z"
   },
   {
    "duration": 157,
    "start_time": "2022-12-04T13:01:37.962Z"
   },
   {
    "duration": 385,
    "start_time": "2022-12-04T13:01:38.121Z"
   },
   {
    "duration": 108,
    "start_time": "2022-12-04T13:01:38.508Z"
   },
   {
    "duration": 100,
    "start_time": "2022-12-04T13:01:38.618Z"
   },
   {
    "duration": 172,
    "start_time": "2022-12-04T13:01:38.720Z"
   },
   {
    "duration": 312,
    "start_time": "2022-12-04T13:01:38.894Z"
   },
   {
    "duration": 239,
    "start_time": "2022-12-04T13:01:39.209Z"
   },
   {
    "duration": 18,
    "start_time": "2022-12-04T13:01:39.452Z"
   },
   {
    "duration": 143,
    "start_time": "2022-12-04T13:01:39.472Z"
   },
   {
    "duration": 6,
    "start_time": "2022-12-04T13:01:39.617Z"
   },
   {
    "duration": 11,
    "start_time": "2022-12-04T13:05:50.347Z"
   },
   {
    "duration": 21,
    "start_time": "2022-12-04T13:05:57.608Z"
   },
   {
    "duration": 129,
    "start_time": "2022-12-04T13:06:00.326Z"
   },
   {
    "duration": 224,
    "start_time": "2022-12-04T13:06:02.990Z"
   }
  ],
  "kernelspec": {
   "display_name": "Python 3 (ipykernel)",
   "language": "python",
   "name": "python3"
  },
  "language_info": {
   "codemirror_mode": {
    "name": "ipython",
    "version": 3
   },
   "file_extension": ".py",
   "mimetype": "text/x-python",
   "name": "python",
   "nbconvert_exporter": "python",
   "pygments_lexer": "ipython3",
   "version": "3.9.13"
  },
  "toc": {
   "base_numbering": 1,
   "nav_menu": {},
   "number_sections": true,
   "sideBar": true,
   "skip_h1_title": true,
   "title_cell": "Содержание",
   "title_sidebar": "Contents",
   "toc_cell": true,
   "toc_position": {
    "height": "calc(100% - 180px)",
    "left": "10px",
    "top": "150px",
    "width": "187.188px"
   },
   "toc_section_display": true,
   "toc_window_display": true
  },
  "vscode": {
   "interpreter": {
    "hash": "a71409cd40296052b49061bf03047d6f7e6aa7363cb5f34f4465266331eedec7"
   }
  }
 },
 "nbformat": 4,
 "nbformat_minor": 2
}
